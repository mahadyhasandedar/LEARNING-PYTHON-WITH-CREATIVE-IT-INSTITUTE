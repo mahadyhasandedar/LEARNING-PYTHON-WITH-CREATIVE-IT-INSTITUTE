{
 "cells": [
  {
   "cell_type": "markdown",
   "id": "3c59eadb",
   "metadata": {},
   "source": [
    "1. List Exercises:\n",
    "1.1 Create a list of 5 numbers and find their sum."
   ]
  },
  {
   "cell_type": "code",
   "execution_count": 6,
   "id": "0caddd79",
   "metadata": {},
   "outputs": [
    {
     "name": "stdout",
     "output_type": "stream",
     "text": [
      "4118\n"
     ]
    }
   ],
   "source": [
    "num=[17,25,4009,33,34]\n",
    "total=sum(num)\n",
    "print(total)"
   ]
  },
  {
   "cell_type": "code",
   "execution_count": 11,
   "id": "6ffc50fe",
   "metadata": {},
   "outputs": [
    {
     "name": "stdout",
     "output_type": "stream",
     "text": [
      "[17, 25, 4009]\n"
     ]
    }
   ],
   "source": [
    "a=num[0:3]\n",
    "print(a)"
   ]
  },
  {
   "cell_type": "markdown",
   "id": "4c06dda0",
   "metadata": {},
   "source": [
    "1.2 Given a list of fruits, add a new fruit to the end and remove one fruit from the start."
   ]
  },
  {
   "cell_type": "code",
   "execution_count": 18,
   "id": "09699464",
   "metadata": {},
   "outputs": [
    {
     "name": "stdout",
     "output_type": "stream",
     "text": [
      "['banana', 'mango', 'apple', 'rasberry', 'avacado', 'orange']\n"
     ]
    }
   ],
   "source": [
    "fruits=[\"banana\",\"mango\",\"apple\",\"rasberry\",\"avacado\"]\n",
    "fruits.append(\"orange\")\n",
    "print(fruits)"
   ]
  },
  {
   "cell_type": "code",
   "execution_count": 22,
   "id": "33e63db0",
   "metadata": {},
   "outputs": [
    {
     "name": "stdout",
     "output_type": "stream",
     "text": [
      "['banana', 'mango', 'avacado', 'orange']\n"
     ]
    }
   ],
   "source": [
    "fruits.pop(2)\n",
    "print(fruits)"
   ]
  },
  {
   "cell_type": "code",
   "execution_count": null,
   "id": "727cb8fa",
   "metadata": {},
   "outputs": [],
   "source": []
  },
  {
   "cell_type": "markdown",
   "id": "36e45d63",
   "metadata": {},
   "source": [
    "1.3 Sort a list of integers in ascending order, then reverse it."
   ]
  },
  {
   "cell_type": "code",
   "execution_count": 25,
   "id": "ef524ac9",
   "metadata": {},
   "outputs": [
    {
     "name": "stdout",
     "output_type": "stream",
     "text": [
      "[1, 2, 2, 5, 5, 5, 5, 6, 6, 9, 11, 96, 632, 5598, 426685, 2569874]\n"
     ]
    }
   ],
   "source": [
    "number=[2,5,9,1,6,11,5598,2569874,426685,5,96,632,5,6,5,2]\n",
    "\n",
    "number.sort()\n",
    "print(number)"
   ]
  },
  {
   "cell_type": "code",
   "execution_count": 26,
   "id": "4b908452",
   "metadata": {},
   "outputs": [
    {
     "name": "stdout",
     "output_type": "stream",
     "text": [
      "[2569874, 426685, 5598, 632, 96, 11, 9, 6, 6, 5, 5, 5, 5, 2, 2, 1]\n"
     ]
    }
   ],
   "source": [
    "number.reverse()\n",
    "print(number)"
   ]
  },
  {
   "cell_type": "markdown",
   "id": "e73e5ed3",
   "metadata": {},
   "source": [
    "1.4 Find the largest and smallest number in a given list."
   ]
  },
  {
   "cell_type": "code",
   "execution_count": 32,
   "id": "97745477",
   "metadata": {},
   "outputs": [
    {
     "name": "stdout",
     "output_type": "stream",
     "text": [
      "333\n"
     ]
    }
   ],
   "source": [
    "comparison=[99,333,66,55,22,88,45,34]\n",
    "largest=max(comparison)\n",
    "print(largest)"
   ]
  },
  {
   "cell_type": "code",
   "execution_count": 33,
   "id": "a405e0e0",
   "metadata": {},
   "outputs": [
    {
     "name": "stdout",
     "output_type": "stream",
     "text": [
      "22\n"
     ]
    }
   ],
   "source": [
    "smallest=min(comparison)\n",
    "print(smallest)"
   ]
  },
  {
   "cell_type": "markdown",
   "id": "c35843e0",
   "metadata": {},
   "source": [
    "1:5 Remove the first and last items from the list [100, 200, 300, 400, 500]"
   ]
  },
  {
   "cell_type": "code",
   "execution_count": 50,
   "id": "e304351e",
   "metadata": {},
   "outputs": [
    {
     "name": "stdout",
     "output_type": "stream",
     "text": [
      "[200, 300, 400]\n"
     ]
    }
   ],
   "source": [
    "kajy=[100,200,300,400,500]\n",
    "\n",
    "kajy.pop(4)\n",
    "kajy.pop(0)\n",
    "\n",
    "print(kajy)"
   ]
  }
 ],
 "metadata": {
  "kernelspec": {
   "display_name": "base",
   "language": "python",
   "name": "python3"
  },
  "language_info": {
   "codemirror_mode": {
    "name": "ipython",
    "version": 3
   },
   "file_extension": ".py",
   "mimetype": "text/x-python",
   "name": "python",
   "nbconvert_exporter": "python",
   "pygments_lexer": "ipython3",
   "version": "3.13.5"
  }
 },
 "nbformat": 4,
 "nbformat_minor": 5
}
