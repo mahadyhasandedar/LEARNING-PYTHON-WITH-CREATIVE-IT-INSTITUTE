{
 "cells": [
  {
   "cell_type": "markdown",
   "id": "2730594f",
   "metadata": {},
   "source": [
    "In python we have 4 types of data . Such as :\n",
    "1.Integer\n",
    "2.Float\n",
    "3.string\n",
    "4.Boolean"
   ]
  },
  {
   "cell_type": "markdown",
   "id": "cd7db95e",
   "metadata": {},
   "source": [
    "1.Integer: Any types number can be integer 1, 6 ,9,4,58,69,100......."
   ]
  },
  {
   "cell_type": "code",
   "execution_count": 1,
   "id": "0fd5c1c6",
   "metadata": {},
   "outputs": [
    {
     "data": {
      "text/plain": [
       "int"
      ]
     },
     "execution_count": 1,
     "metadata": {},
     "output_type": "execute_result"
    }
   ],
   "source": [
    "a= 5\n",
    "\n",
    "type (a)"
   ]
  },
  {
   "cell_type": "code",
   "execution_count": 2,
   "id": "d32b7176",
   "metadata": {},
   "outputs": [
    {
     "data": {
      "text/plain": [
       "int"
      ]
     },
     "execution_count": 2,
     "metadata": {},
     "output_type": "execute_result"
    }
   ],
   "source": [
    "b=500000000\n",
    "type(b)"
   ]
  },
  {
   "cell_type": "markdown",
   "id": "5012a59d",
   "metadata": {},
   "source": [
    "2.Float: Any types of decimel value will be float type data.\n",
    "such as : 2.3, 45.66, 77.90000, 82.77642"
   ]
  },
  {
   "cell_type": "code",
   "execution_count": 3,
   "id": "64425db3",
   "metadata": {},
   "outputs": [
    {
     "data": {
      "text/plain": [
       "float"
      ]
     },
     "execution_count": 3,
     "metadata": {},
     "output_type": "execute_result"
    }
   ],
   "source": [
    "a=5.600\n",
    "type(a)"
   ]
  },
  {
   "cell_type": "code",
   "execution_count": null,
   "id": "bdacb83d",
   "metadata": {},
   "outputs": [],
   "source": [
    "String:\n",
    "# Single inverted comma =['']\n",
    "# double inverted comma =[\" \"]\n",
    "# doc string = [''' ''']\n",
    "# character string = \"a\",\"b\",\"c\",8\n",
    "# word string = \"hello\", \"abc\" ,7.8\n",
    "# sentence string = \"Mahady Hasan Dedar\""
   ]
  },
  {
   "cell_type": "code",
   "execution_count": 4,
   "id": "24f43208",
   "metadata": {},
   "outputs": [
    {
     "data": {
      "text/plain": [
       "str"
      ]
     },
     "execution_count": 4,
     "metadata": {},
     "output_type": "execute_result"
    }
   ],
   "source": [
    "I = \"mahady hasan\"\n",
    "type(I)"
   ]
  },
  {
   "cell_type": "markdown",
   "id": "4cb9ec90",
   "metadata": {},
   "source": [
    "BOOL: Boolean data types are True and false \n"
   ]
  },
  {
   "cell_type": "code",
   "execution_count": null,
   "id": "4dd6827c",
   "metadata": {},
   "outputs": [
    {
     "data": {
      "text/plain": [
       "bool"
      ]
     },
     "execution_count": 10,
     "metadata": {},
     "output_type": "execute_result"
    }
   ],
   "source": [
    "B= True \n",
    "type(B)\n"
   ]
  },
  {
   "cell_type": "code",
   "execution_count": 11,
   "id": "4cb45beb",
   "metadata": {},
   "outputs": [
    {
     "data": {
      "text/plain": [
       "bool"
      ]
     },
     "execution_count": 11,
     "metadata": {},
     "output_type": "execute_result"
    }
   ],
   "source": [
    "C= False\n",
    "type(C)"
   ]
  },
  {
   "cell_type": "markdown",
   "id": "16a79335",
   "metadata": {},
   "source": [
    "Convertion:"
   ]
  },
  {
   "cell_type": "code",
   "execution_count": 13,
   "id": "49a68e83",
   "metadata": {},
   "outputs": [
    {
     "name": "stdout",
     "output_type": "stream",
     "text": [
      "18.0\n"
     ]
    },
    {
     "data": {
      "text/plain": [
       "float"
      ]
     },
     "execution_count": 13,
     "metadata": {},
     "output_type": "execute_result"
    }
   ],
   "source": [
    "# Int to float \n",
    "a=18\n",
    "s= float(a)\n",
    "print(s)\n",
    "type(s)"
   ]
  },
  {
   "cell_type": "code",
   "execution_count": 15,
   "id": "23552253",
   "metadata": {},
   "outputs": [
    {
     "name": "stdout",
     "output_type": "stream",
     "text": [
      "1\n"
     ]
    },
    {
     "data": {
      "text/plain": [
       "int"
      ]
     },
     "execution_count": 15,
     "metadata": {},
     "output_type": "execute_result"
    }
   ],
   "source": [
    "#bool to int \n",
    "s= True \n",
    "n=int(s)\n",
    "print(n)\n",
    "type(n)"
   ]
  },
  {
   "cell_type": "code",
   "execution_count": 16,
   "id": "577b3c46",
   "metadata": {},
   "outputs": [
    {
     "name": "stdout",
     "output_type": "stream",
     "text": [
      "0\n"
     ]
    },
    {
     "data": {
      "text/plain": [
       "int"
      ]
     },
     "execution_count": 16,
     "metadata": {},
     "output_type": "execute_result"
    }
   ],
   "source": [
    "s=False\n",
    "n= int(s)\n",
    "print(n)\n",
    "type (n)"
   ]
  },
  {
   "cell_type": "code",
   "execution_count": 17,
   "id": "b73e6ca8",
   "metadata": {},
   "outputs": [
    {
     "name": "stdout",
     "output_type": "stream",
     "text": [
      "True\n"
     ]
    },
    {
     "data": {
      "text/plain": [
       "bool"
      ]
     },
     "execution_count": 17,
     "metadata": {},
     "output_type": "execute_result"
    }
   ],
   "source": [
    "# Int to bool \n",
    "Q = 100\n",
    "W = bool(Q)\n",
    "print(W)\n",
    "type (W)"
   ]
  },
  {
   "cell_type": "code",
   "execution_count": 19,
   "id": "717069d0",
   "metadata": {},
   "outputs": [
    {
     "name": "stdout",
     "output_type": "stream",
     "text": [
      "False\n"
     ]
    },
    {
     "data": {
      "text/plain": [
       "bool"
      ]
     },
     "execution_count": 19,
     "metadata": {},
     "output_type": "execute_result"
    }
   ],
   "source": [
    "Q = 0\n",
    "W =bool (Q)\n",
    "print(W)\n",
    "type (W)"
   ]
  },
  {
   "cell_type": "code",
   "execution_count": 20,
   "id": "028fe696",
   "metadata": {},
   "outputs": [
    {
     "name": "stdout",
     "output_type": "stream",
     "text": [
      "True\n"
     ]
    },
    {
     "data": {
      "text/plain": [
       "bool"
      ]
     },
     "execution_count": 20,
     "metadata": {},
     "output_type": "execute_result"
    }
   ],
   "source": [
    "Q = -1\n",
    "W =bool (Q)\n",
    "print(W)\n",
    "type (W)"
   ]
  },
  {
   "cell_type": "code",
   "execution_count": 21,
   "id": "9a4a0af4",
   "metadata": {},
   "outputs": [
    {
     "name": "stdout",
     "output_type": "stream",
     "text": [
      "True\n"
     ]
    },
    {
     "data": {
      "text/plain": [
       "bool"
      ]
     },
     "execution_count": 21,
     "metadata": {},
     "output_type": "execute_result"
    }
   ],
   "source": [
    "#string to bool \n",
    "ok = \"mahady\"\n",
    "oky = bool(ok)\n",
    "print(oky)\n",
    "type(oky)"
   ]
  },
  {
   "cell_type": "code",
   "execution_count": null,
   "id": "857f690d",
   "metadata": {},
   "outputs": [
    {
     "name": "stdout",
     "output_type": "stream",
     "text": [
      "False\n"
     ]
    },
    {
     "data": {
      "text/plain": [
       "bool"
      ]
     },
     "execution_count": 25,
     "metadata": {},
     "output_type": "execute_result"
    }
   ],
   "source": [
    "ok = \"\"   # if you dont give space in inverted commma then ans will be False\n",
    "oky = bool(ok)\n",
    "print(oky)\n",
    "type(oky)"
   ]
  },
  {
   "cell_type": "code",
   "execution_count": null,
   "id": "cfd6cf6d",
   "metadata": {},
   "outputs": [
    {
     "name": "stdout",
     "output_type": "stream",
     "text": [
      "True\n"
     ]
    },
    {
     "data": {
      "text/plain": [
       "bool"
      ]
     },
     "execution_count": 26,
     "metadata": {},
     "output_type": "execute_result"
    }
   ],
   "source": [
    "ok = \" \"   # if you give space in inverted commma then ans will be True\n",
    "oky = bool(ok)\n",
    "print(oky)\n",
    "type(oky)"
   ]
  }
 ],
 "metadata": {
  "kernelspec": {
   "display_name": "base",
   "language": "python",
   "name": "python3"
  },
  "language_info": {
   "codemirror_mode": {
    "name": "ipython",
    "version": 3
   },
   "file_extension": ".py",
   "mimetype": "text/x-python",
   "name": "python",
   "nbconvert_exporter": "python",
   "pygments_lexer": "ipython3",
   "version": "3.13.5"
  }
 },
 "nbformat": 4,
 "nbformat_minor": 5
}
