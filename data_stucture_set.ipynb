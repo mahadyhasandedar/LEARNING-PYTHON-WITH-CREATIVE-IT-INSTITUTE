{
 "cells": [
  {
   "cell_type": "markdown",
   "id": "880b106a",
   "metadata": {},
   "source": [
    "2. Set Exercises\n",
    "2.1 Create two sets of integers and find their union.\n",
    "Explanation: Practice union() or | operator."
   ]
  },
  {
   "cell_type": "code",
   "execution_count": 5,
   "id": "03a366d4",
   "metadata": {},
   "outputs": [
    {
     "data": {
      "text/plain": [
       "{12, 25, 32, 36, 45, 65, 69, 78, 85, 98}"
      ]
     },
     "execution_count": 5,
     "metadata": {},
     "output_type": "execute_result"
    }
   ],
   "source": [
    "set_1= {25,36,78,69,85,98}\n",
    "set_2={78,98,65,45,12,32}\n",
    "set_1.union(set_2)"
   ]
  },
  {
   "cell_type": "code",
   "execution_count": 6,
   "id": "0953e003",
   "metadata": {},
   "outputs": [
    {
     "data": {
      "text/plain": [
       "{25, 36, 69, 85}"
      ]
     },
     "execution_count": 6,
     "metadata": {},
     "output_type": "execute_result"
    }
   ],
   "source": [
    "set_1.difference(set_2)"
   ]
  },
  {
   "cell_type": "markdown",
   "id": "b6779e1e",
   "metadata": {},
   "source": [
    "2.2 Find the intersection of two sets."
   ]
  },
  {
   "cell_type": "code",
   "execution_count": 16,
   "id": "f537615d",
   "metadata": {},
   "outputs": [
    {
     "data": {
      "text/plain": [
       "{78, 98}"
      ]
     },
     "execution_count": 16,
     "metadata": {},
     "output_type": "execute_result"
    }
   ],
   "source": [
    "set_1= {25,36,78,69,85,98}\n",
    "set_2={78,98,65,45,12,32}\n",
    "set_1.intersection(set_2)"
   ]
  },
  {
   "cell_type": "markdown",
   "id": "36d297e7",
   "metadata": {},
   "source": [
    "2.3 Remove one specific element from a set."
   ]
  },
  {
   "cell_type": "code",
   "execution_count": 20,
   "id": "a7b3371b",
   "metadata": {},
   "outputs": [
    {
     "name": "stdout",
     "output_type": "stream",
     "text": [
      "{98, 69, 85, 25, 78}\n"
     ]
    }
   ],
   "source": [
    "set_1= {25,36,78,69,85,98}\n",
    "set_1.remove(36)\n",
    "print(set_1)"
   ]
  },
  {
   "cell_type": "markdown",
   "id": "94f1c621",
   "metadata": {},
   "source": [
    "2.4 Check whether one set is a subset of another."
   ]
  },
  {
   "cell_type": "code",
   "execution_count": 21,
   "id": "3731ed98",
   "metadata": {},
   "outputs": [
    {
     "data": {
      "text/plain": [
       "False"
      ]
     },
     "execution_count": 21,
     "metadata": {},
     "output_type": "execute_result"
    }
   ],
   "source": [
    "set_1= {25,36,78,69,85,98}\n",
    "set_2={78,98,65,45,12,32}\n",
    "\n",
    "set_1.issubset(set_2)"
   ]
  },
  {
   "cell_type": "markdown",
   "id": "b064509f",
   "metadata": {},
   "source": [
    "2.5 Given a list with duplicates, convert it into a set to keep only unique items."
   ]
  },
  {
   "cell_type": "code",
   "execution_count": null,
   "id": "548e39c1",
   "metadata": {},
   "outputs": [
    {
     "name": "stdout",
     "output_type": "stream",
     "text": [
      "{65, 98, 36, 69, 12, 45, 78, 85, 25}\n"
     ]
    }
   ],
   "source": [
    "set_1= [25,36,78,69,85,98,78,98,65,45,12,36]\n",
    "\n",
    "ok=set(set_1)\n",
    "print(ok)\n"
   ]
  }
 ],
 "metadata": {
  "kernelspec": {
   "display_name": "base",
   "language": "python",
   "name": "python3"
  },
  "language_info": {
   "codemirror_mode": {
    "name": "ipython",
    "version": 3
   },
   "file_extension": ".py",
   "mimetype": "text/x-python",
   "name": "python",
   "nbconvert_exporter": "python",
   "pygments_lexer": "ipython3",
   "version": "3.13.5"
  }
 },
 "nbformat": 4,
 "nbformat_minor": 5
}
