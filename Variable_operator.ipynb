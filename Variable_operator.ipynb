{
 "cells": [
  {
   "cell_type": "markdown",
   "id": "9aa1b5ad",
   "metadata": {},
   "source": [
    "VARIABLE:"
   ]
  },
  {
   "cell_type": "markdown",
   "id": "d87bf178",
   "metadata": {},
   "source": [
    "Valid variable :\n",
    "myyvar=\"mahady\"\n",
    "My_VAR=\"HASAN\"\n",
    "_MY_VAR=\"DEDAR\"\n",
    "myvar-\"jason\"\n",
    "myvar2=\"you\""
   ]
  },
  {
   "cell_type": "markdown",
   "id": "68fb5a4e",
   "metadata": {},
   "source": [
    "Not Valid :\n",
    "2myvar=\"jessika\"\n",
    "my-var=\"ostad\"\n",
    "mY var= \"Abol tabol\"\n",
    "5myvar=\"pablo escober\""
   ]
  },
  {
   "cell_type": "markdown",
   "id": "4aab1079",
   "metadata": {},
   "source": [
    "OPERATOR:\n",
    "Here  7 types of operators i will explain with you.\n",
    "1. Arithmatic operator\n",
    "2.Comparison operator\n",
    "3.Identity operator\n",
    "4.Bitwise operator\n",
    "5.Assignment operator\n",
    "6.Logical operator\n",
    "7.Membership operator\n"
   ]
  },
  {
   "cell_type": "code",
   "execution_count": 1,
   "id": "5e4fad48",
   "metadata": {},
   "outputs": [
    {
     "name": "stdout",
     "output_type": "stream",
     "text": [
      "10\n",
      "4\n",
      "21\n",
      "2.3333333333333335\n",
      "1\n",
      "343\n",
      "2\n"
     ]
    }
   ],
   "source": [
    "# Arithmetic Operators\n",
    "a = 7\n",
    "b = 3\n",
    "\n",
    "print(a + b)\n",
    "print(a - b)\n",
    "print(a * b)\n",
    "print(a / b)\n",
    "print(a % b)\n",
    "print(a ** b)\n",
    "print(a // b)"
   ]
  },
  {
   "cell_type": "code",
   "execution_count": 2,
   "id": "4edcac11",
   "metadata": {},
   "outputs": [
    {
     "name": "stdout",
     "output_type": "stream",
     "text": [
      "False\n",
      "True\n",
      "True\n",
      "False\n",
      "True\n",
      "False\n"
     ]
    }
   ],
   "source": [
    "# comparison operators\n",
    "a = 7\n",
    "b = 3\n",
    "\n",
    "print(a == b)\n",
    "print(a != b)\n",
    "print(a > b)\n",
    "print(a < b)\n",
    "print(a >= b)\n",
    "print(a <= b)"
   ]
  },
  {
   "cell_type": "code",
   "execution_count": null,
   "id": "40801003",
   "metadata": {},
   "outputs": [
    {
     "name": "stdout",
     "output_type": "stream",
     "text": [
      "24\n"
     ]
    }
   ],
   "source": [
    "# Assignment operator\n",
    "a=8\n",
    "a+=16\n",
    "print(a)\n"
   ]
  },
  {
   "cell_type": "code",
   "execution_count": 22,
   "id": "b201aaa7",
   "metadata": {},
   "outputs": [
    {
     "name": "stdout",
     "output_type": "stream",
     "text": [
      "8\n"
     ]
    }
   ],
   "source": [
    "a-=16\n",
    "print(a)\n",
    "\n"
   ]
  },
  {
   "cell_type": "code",
   "execution_count": 23,
   "id": "5f022988",
   "metadata": {},
   "outputs": [
    {
     "name": "stdout",
     "output_type": "stream",
     "text": [
      "128\n"
     ]
    }
   ],
   "source": [
    "a*=16\n",
    "print(a)\n",
    "\n"
   ]
  },
  {
   "cell_type": "code",
   "execution_count": 30,
   "id": "bf762505",
   "metadata": {},
   "outputs": [
    {
     "name": "stdout",
     "output_type": "stream",
     "text": [
      "0.5555555555555556\n"
     ]
    }
   ],
   "source": [
    "a=35\n",
    "a/=63\n",
    "print(a)"
   ]
  },
  {
   "cell_type": "code",
   "execution_count": 31,
   "id": "4b769078",
   "metadata": {},
   "outputs": [
    {
     "name": "stdout",
     "output_type": "stream",
     "text": [
      "10\n"
     ]
    }
   ],
   "source": [
    "n=10\n",
    "n%=35\n",
    "print(n)"
   ]
  },
  {
   "cell_type": "code",
   "execution_count": 32,
   "id": "f74fa646",
   "metadata": {},
   "outputs": [
    {
     "name": "stdout",
     "output_type": "stream",
     "text": [
      "2\n"
     ]
    }
   ],
   "source": [
    "p=54\n",
    "p//=23\n",
    "print(p)\n"
   ]
  },
  {
   "cell_type": "code",
   "execution_count": 33,
   "id": "10d7f793",
   "metadata": {},
   "outputs": [
    {
     "name": "stdout",
     "output_type": "stream",
     "text": [
      "6\n"
     ]
    }
   ],
   "source": [
    "d=78\n",
    "d&=7\n",
    "print(d)\n"
   ]
  },
  {
   "cell_type": "code",
   "execution_count": 35,
   "id": "c4ce8f7b",
   "metadata": {},
   "outputs": [
    {
     "name": "stdout",
     "output_type": "stream",
     "text": [
      "31\n"
     ]
    }
   ],
   "source": [
    "o=29\n",
    "o|=11\n",
    "print(o)\n"
   ]
  },
  {
   "cell_type": "code",
   "execution_count": null,
   "id": "eb903f2f",
   "metadata": {},
   "outputs": [
    {
     "name": "stdout",
     "output_type": "stream",
     "text": [
      "4\n"
     ]
    }
   ],
   "source": [
    "T=13\n",
    "T^=9\n",
    "print(T)"
   ]
  },
  {
   "cell_type": "code",
   "execution_count": null,
   "id": "0d6d3b15",
   "metadata": {},
   "outputs": [
    {
     "name": "stdout",
     "output_type": "stream",
     "text": [
      "3\n"
     ]
    }
   ],
   "source": [
    "y=14\n",
    "y>>=2\n",
    "print(y)\n"
   ]
  },
  {
   "cell_type": "code",
   "execution_count": null,
   "id": "b535206d",
   "metadata": {},
   "outputs": [
    {
     "name": "stdout",
     "output_type": "stream",
     "text": [
      "3840\n"
     ]
    }
   ],
   "source": [
    "R=15\n",
    "R<<=8\n",
    "print(R)\n"
   ]
  },
  {
   "cell_type": "code",
   "execution_count": null,
   "id": "feb0c16c",
   "metadata": {},
   "outputs": [
    {
     "name": "stdout",
     "output_type": "stream",
     "text": [
      "295147905179352825856\n"
     ]
    }
   ],
   "source": [
    "Q=16\n",
    "Q**=17\n",
    "print(Q)\n"
   ]
  },
  {
   "cell_type": "markdown",
   "id": "c5da3d87",
   "metadata": {},
   "source": [
    "# Identity operator\n",
    "\n",
    "# is \n",
    "# is not"
   ]
  },
  {
   "cell_type": "code",
   "execution_count": 41,
   "id": "8219a73e",
   "metadata": {},
   "outputs": [
    {
     "data": {
      "text/plain": [
       "True"
      ]
     },
     "execution_count": 41,
     "metadata": {},
     "output_type": "execute_result"
    }
   ],
   "source": [
    "10==10"
   ]
  },
  {
   "cell_type": "code",
   "execution_count": 42,
   "id": "364eb14d",
   "metadata": {},
   "outputs": [
    {
     "name": "stderr",
     "output_type": "stream",
     "text": [
      "<>:1: SyntaxWarning: \"is\" with 'int' literal. Did you mean \"==\"?\n",
      "C:\\Users\\mahad\\AppData\\Local\\Temp\\ipykernel_1028\\3938569512.py:1: SyntaxWarning: \"is\" with 'int' literal. Did you mean \"==\"?\n",
      "  10 is 10\n"
     ]
    },
    {
     "data": {
      "text/plain": [
       "True"
      ]
     },
     "execution_count": 42,
     "metadata": {},
     "output_type": "execute_result"
    }
   ],
   "source": [
    "10 is 10"
   ]
  },
  {
   "cell_type": "code",
   "execution_count": 43,
   "id": "67363e20",
   "metadata": {},
   "outputs": [
    {
     "data": {
      "text/plain": [
       "False"
      ]
     },
     "execution_count": 43,
     "metadata": {},
     "output_type": "execute_result"
    }
   ],
   "source": [
    "10 !=10"
   ]
  },
  {
   "cell_type": "code",
   "execution_count": 44,
   "id": "3581bad5",
   "metadata": {},
   "outputs": [
    {
     "name": "stderr",
     "output_type": "stream",
     "text": [
      "<>:1: SyntaxWarning: \"is not\" with 'int' literal. Did you mean \"!=\"?\n",
      "C:\\Users\\mahad\\AppData\\Local\\Temp\\ipykernel_1028\\3919734364.py:1: SyntaxWarning: \"is not\" with 'int' literal. Did you mean \"!=\"?\n",
      "  10 is not 10\n"
     ]
    },
    {
     "data": {
      "text/plain": [
       "False"
      ]
     },
     "execution_count": 44,
     "metadata": {},
     "output_type": "execute_result"
    }
   ],
   "source": [
    "10 is not 10"
   ]
  },
  {
   "cell_type": "code",
   "execution_count": 45,
   "id": "ce38bc67",
   "metadata": {},
   "outputs": [
    {
     "name": "stderr",
     "output_type": "stream",
     "text": [
      "<>:1: SyntaxWarning: \"is\" with 'int' literal. Did you mean \"==\"?\n",
      "C:\\Users\\mahad\\AppData\\Local\\Temp\\ipykernel_1028\\2869099607.py:1: SyntaxWarning: \"is\" with 'int' literal. Did you mean \"==\"?\n",
      "  100 is 200\n"
     ]
    },
    {
     "data": {
      "text/plain": [
       "False"
      ]
     },
     "execution_count": 45,
     "metadata": {},
     "output_type": "execute_result"
    }
   ],
   "source": [
    "100 is 200"
   ]
  },
  {
   "cell_type": "code",
   "execution_count": 47,
   "id": "f00b9cb3",
   "metadata": {},
   "outputs": [
    {
     "name": "stderr",
     "output_type": "stream",
     "text": [
      "<>:1: SyntaxWarning: \"is not\" with 'int' literal. Did you mean \"!=\"?\n",
      "C:\\Users\\mahad\\AppData\\Local\\Temp\\ipykernel_1028\\2539764476.py:1: SyntaxWarning: \"is not\" with 'int' literal. Did you mean \"!=\"?\n",
      "  500 is not 250\n"
     ]
    },
    {
     "data": {
      "text/plain": [
       "True"
      ]
     },
     "execution_count": 47,
     "metadata": {},
     "output_type": "execute_result"
    }
   ],
   "source": [
    "500 is not 250"
   ]
  },
  {
   "cell_type": "code",
   "execution_count": 48,
   "id": "9d2ca6fa",
   "metadata": {},
   "outputs": [
    {
     "data": {
      "text/plain": [
       "True"
      ]
     },
     "execution_count": 48,
     "metadata": {},
     "output_type": "execute_result"
    }
   ],
   "source": [
    "# membership operator\n",
    "\n",
    "7 in (8,9,10,7)"
   ]
  },
  {
   "cell_type": "code",
   "execution_count": 49,
   "id": "878166c3",
   "metadata": {},
   "outputs": [
    {
     "data": {
      "text/plain": [
       "False"
      ]
     },
     "execution_count": 49,
     "metadata": {},
     "output_type": "execute_result"
    }
   ],
   "source": [
    "100 in (8,9,10,6)"
   ]
  },
  {
   "cell_type": "code",
   "execution_count": 50,
   "id": "92204459",
   "metadata": {},
   "outputs": [
    {
     "data": {
      "text/plain": [
       "False"
      ]
     },
     "execution_count": 50,
     "metadata": {},
     "output_type": "execute_result"
    }
   ],
   "source": [
    "2 in (35,25,23,9)"
   ]
  },
  {
   "cell_type": "markdown",
   "id": "a6ee61ca",
   "metadata": {},
   "source": [
    "# logical operator\n",
    "\n",
    "# AND\n",
    "# OR\n",
    "# NOT"
   ]
  },
  {
   "cell_type": "code",
   "execution_count": 51,
   "id": "bd98546f",
   "metadata": {},
   "outputs": [
    {
     "data": {
      "text/plain": [
       "False"
      ]
     },
     "execution_count": 51,
     "metadata": {},
     "output_type": "execute_result"
    }
   ],
   "source": [
    "3==4 and 4==4"
   ]
  },
  {
   "cell_type": "code",
   "execution_count": 52,
   "id": "96213081",
   "metadata": {},
   "outputs": [
    {
     "data": {
      "text/plain": [
       "True"
      ]
     },
     "execution_count": 52,
     "metadata": {},
     "output_type": "execute_result"
    }
   ],
   "source": [
    "2==2 or 2==9"
   ]
  }
 ],
 "metadata": {
  "kernelspec": {
   "display_name": "base",
   "language": "python",
   "name": "python3"
  },
  "language_info": {
   "codemirror_mode": {
    "name": "ipython",
    "version": 3
   },
   "file_extension": ".py",
   "mimetype": "text/x-python",
   "name": "python",
   "nbconvert_exporter": "python",
   "pygments_lexer": "ipython3",
   "version": "3.13.5"
  }
 },
 "nbformat": 4,
 "nbformat_minor": 5
}
