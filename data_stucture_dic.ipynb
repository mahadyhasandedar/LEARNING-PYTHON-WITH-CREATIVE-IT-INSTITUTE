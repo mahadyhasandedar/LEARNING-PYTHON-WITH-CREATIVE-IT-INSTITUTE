{
 "cells": [
  {
   "cell_type": "markdown",
   "id": "c6839ce2",
   "metadata": {},
   "source": [
    "Dictionary Exercises:\n",
    "4.1 Create a dictionary with keys as student names and values as marks. Print all keys."
   ]
  },
  {
   "cell_type": "code",
   "execution_count": 1,
   "id": "3ea01dd0",
   "metadata": {},
   "outputs": [
    {
     "name": "stdout",
     "output_type": "stream",
     "text": [
      "{'one': 'akkas ', 'score1': 100, 'two': 'alauddin', 'score2': 99, 'three': 'momota benarji', 'score3': 88, 'four': 'norendro modi', 'score4': -10, 'five': 'sheik hasina', 'score5': 120}\n"
     ]
    }
   ],
   "source": [
    "creative = {\n",
    "    \"one\" : \"akkas \",\n",
    "    \"score1\": 100,\n",
    "    \"two\":\"alauddin\",\n",
    "    \"score2\" :99,\n",
    "    \"three\":\"momota benarji\" ,\n",
    "    \"score3\":88,\n",
    "    \"four\":\"norendro modi\", \n",
    "    \"score4\":-10,\n",
    "    \"five\":\"sheik hasina\", \n",
    "    \"score5\": 120,\n",
    "}\n",
    "\n",
    "print(creative)"
   ]
  },
  {
   "cell_type": "markdown",
   "id": "d97dcf50",
   "metadata": {},
   "source": [
    "4.2 Add a new key-value pair to a dictionary."
   ]
  },
  {
   "cell_type": "code",
   "execution_count": 20,
   "id": "e04e0ed6",
   "metadata": {},
   "outputs": [
    {
     "name": "stdout",
     "output_type": "stream",
     "text": [
      "{'one': {'name': 'mahady hasan', 'location': 'bangladesh', 'position': 'barista', 'salary': 3000}, 'two': {'name': 'abu sufean', 'location': 'noakhali', 'position': 'water'}, 'three': {'name': 'md.hasan ali', 'location': 'jessor', 'position': 'cleaner'}, 'four': {'name': 'mr.ali', 'loction': 'syria', 'position': 'area manager '}, 'five': {'name': 'ohud', 'loction': 'saudi arabia', 'position': 'supervisor'}, 'six': {' name': 'molbul miah', 'loction': 'cumilla ', 'position': 'cashear'}}\n"
     ]
    }
   ],
   "source": [
    "oppato = {\n",
    "    \"one\" : {\"name\":\"mahady hasan\", \"location\": \"bangladesh\", \"position\":\"barista\"},\n",
    "    \"two\": {\"name\":\"abu sufean\", \"location\": \"noakhali\", \"position\": \"water\"},\n",
    "    \"three\":{\"name\":\"md.hasan ali\",\"location\":\"jessor\",\"position\":\"cleaner\"},\n",
    "    \"four\":{\"name\":\"mr.ali\", \"loction\":\"syria\", \"position\":\"area manager \"},\n",
    "    \"five\": {\"name\":\"ohud\", \"loction\":\"saudi arabia\", \"position\": \"supervisor\"},\n",
    "    \"six\":{\" name\":\"molbul miah\", \"loction\":\"cumilla \", \"position\": \"cashear\"},\n",
    "\n",
    "}\n",
    "\n",
    "oppato[\"one\"][\"salary\"]=3000\n",
    "\n",
    "print(oppato)"
   ]
  },
  {
   "cell_type": "markdown",
   "id": "55f43dbe",
   "metadata": {},
   "source": [
    "4.3 Check if a specific key exists in a dictionary.\n"
   ]
  },
  {
   "cell_type": "code",
   "execution_count": 6,
   "id": "460bc623",
   "metadata": {},
   "outputs": [
    {
     "name": "stdout",
     "output_type": "stream",
     "text": [
      "False\n",
      "False\n",
      "False\n"
     ]
    }
   ],
   "source": [
    "oppato = {\n",
    "    \"one\" : {\"name\":\"mahady hasan\", \"location\": \"bangladesh\", \"position\":\"barista\"},\n",
    "    \"two\": {\"name\":\"abu sufean\", \"location\": \"noakhali\", \"position\": \"water\"},\n",
    "    \"three\":{\"name\":\"md.hasan ali\",\"location\":\"jessor\",\"position\":\"cleaner\"},\n",
    "    \"four\":{\"name\":\"mr.ali\", \"location\":\"syria\", \"position\":\"area manager \"},\n",
    "    \"five\": {\"name\":\"ohud\", \"location\":\"saudi arabia\", \"position\": \"supervisor\"},\n",
    "    \"six\":{\" name\":\"molbul miah\", \"location\":\"cumilla \", \"position\": \"cashear\"},\n",
    "\n",
    "}\n",
    "\n",
    "print(\"insurance\" in oppato)\n",
    "print(\"salary\" in oppato)\n",
    "print(\"location\" in oppato)\n"
   ]
  },
  {
   "cell_type": "code",
   "execution_count": 11,
   "id": "35c0873d",
   "metadata": {},
   "outputs": [
    {
     "name": "stdout",
     "output_type": "stream",
     "text": [
      "{'one': {'name': 'mahady hasan', 'location': 'uganda', 'position': 'barista'}, 'two': {'name': 'abu sufean', 'location': 'noakhali', 'position': 'water'}, 'three': {'name': 'md.hasan ali', 'location': 'jessor', 'position': 'cleaner'}, 'four': {'name': 'mr.ali', 'location': 'syria', 'position': 'area manager '}, 'five': {'name': 'ohud', 'location': 'saudi arabia', 'position': 'supervisor'}, 'six': {' name': 'molbul miah', 'location': 'cumilla ', 'position': 'cashear'}}\n"
     ]
    }
   ],
   "source": [
    "oppato [\"one\"][\"location\"]= 'uganda'\n",
    "print(oppato)"
   ]
  }
 ],
 "metadata": {
  "kernelspec": {
   "display_name": "base",
   "language": "python",
   "name": "python3"
  },
  "language_info": {
   "codemirror_mode": {
    "name": "ipython",
    "version": 3
   },
   "file_extension": ".py",
   "mimetype": "text/x-python",
   "name": "python",
   "nbconvert_exporter": "python",
   "pygments_lexer": "ipython3",
   "version": "3.13.5"
  }
 },
 "nbformat": 4,
 "nbformat_minor": 5
}
