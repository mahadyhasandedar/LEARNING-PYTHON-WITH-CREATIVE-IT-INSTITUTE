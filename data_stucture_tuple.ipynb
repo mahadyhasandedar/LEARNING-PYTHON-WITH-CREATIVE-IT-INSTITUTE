{
 "cells": [
  {
   "cell_type": "markdown",
   "id": "cee7b9e8",
   "metadata": {},
   "source": [
    "3. Tuple Exercises\n",
    "3.1 Create a tuple with 5 elements and print its second element."
   ]
  },
  {
   "cell_type": "code",
   "execution_count": 3,
   "id": "11f473a5",
   "metadata": {},
   "outputs": [
    {
     "name": "stdout",
     "output_type": "stream",
     "text": [
      "bro\n"
     ]
    }
   ],
   "source": [
    "akkas= (\"abc\",\"bro\",\"sos\",\"lagbe\",\"na\")\n",
    "\n",
    "print(akkas[1])"
   ]
  },
  {
   "cell_type": "markdown",
   "id": "d981d9ac",
   "metadata": {},
   "source": [
    "3.2 Concatenate two tuples into one."
   ]
  },
  {
   "cell_type": "code",
   "execution_count": 5,
   "id": "abea426f",
   "metadata": {},
   "outputs": [
    {
     "name": "stdout",
     "output_type": "stream",
     "text": [
      "(1, 2, 3, 65, 45, 96, 78, 98, 78, 88, 99, 7, 44, 5, 521, 56, 47, 58962)\n"
     ]
    }
   ],
   "source": [
    "tup1=(1,2,3,65,45,96,78,98,78)\n",
    "tup2=(88,99,7,44,5,521,56,47,58962)\n",
    "tup3=tup1+tup2\n",
    "print(tup3)"
   ]
  },
  {
   "cell_type": "markdown",
   "id": "bf4944ef",
   "metadata": {},
   "source": [
    "3.3 Find the length of a tuple and check if a value exists in it."
   ]
  },
  {
   "cell_type": "code",
   "execution_count": 9,
   "id": "c852437e",
   "metadata": {},
   "outputs": [
    {
     "name": "stdout",
     "output_type": "stream",
     "text": [
      "18\n",
      "False\n",
      "True\n"
     ]
    }
   ],
   "source": [
    "tup1=(1,2,3,65,45,96,78,98,78)\n",
    "tup2=(88,99,7,44,5,521,56,47,58962)\n",
    "print(len(tup3))\n",
    "print(30 in tup1)\n",
    "print(521 in tup2)"
   ]
  },
  {
   "cell_type": "markdown",
   "id": "6d6aab9f",
   "metadata": {},
   "source": [
    "3.4 Convert a tuple to a list, modify an element, and convert it back to a tuple."
   ]
  },
  {
   "cell_type": "code",
   "execution_count": 13,
   "id": "138c7420",
   "metadata": {},
   "outputs": [
    {
     "name": "stdout",
     "output_type": "stream",
     "text": [
      "[1, 2, 3, 65, 45, 96, 78, 98, 78]\n"
     ]
    }
   ],
   "source": [
    "tup=(1,2,3,65,45,96,78,98,78)\n",
    "\n",
    "my_list=list(tup)\n",
    "print(my_list)\n"
   ]
  },
  {
   "cell_type": "code",
   "execution_count": 15,
   "id": "aac7f206",
   "metadata": {},
   "outputs": [
    {
     "name": "stdout",
     "output_type": "stream",
     "text": [
      "[1, 2, 3, 33, 45, 96, 78, 98, 78]\n"
     ]
    }
   ],
   "source": [
    "my_list[3]=33\n",
    "print(my_list)"
   ]
  },
  {
   "cell_type": "code",
   "execution_count": 18,
   "id": "ff04e91f",
   "metadata": {},
   "outputs": [
    {
     "name": "stdout",
     "output_type": "stream",
     "text": [
      "(1, 2, 3, 33, 45, 96, 78, 98, 78)\n"
     ]
    }
   ],
   "source": [
    "my_tuple= tuple(my_list)\n",
    "print(my_tuple)"
   ]
  }
 ],
 "metadata": {
  "kernelspec": {
   "display_name": "base",
   "language": "python",
   "name": "python3"
  },
  "language_info": {
   "codemirror_mode": {
    "name": "ipython",
    "version": 3
   },
   "file_extension": ".py",
   "mimetype": "text/x-python",
   "name": "python",
   "nbconvert_exporter": "python",
   "pygments_lexer": "ipython3",
   "version": "3.13.5"
  }
 },
 "nbformat": 4,
 "nbformat_minor": 5
}
